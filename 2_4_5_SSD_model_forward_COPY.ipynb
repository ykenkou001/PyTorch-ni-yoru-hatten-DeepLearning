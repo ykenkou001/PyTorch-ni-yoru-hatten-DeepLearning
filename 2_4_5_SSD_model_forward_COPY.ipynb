{
  "nbformat": 4,
  "nbformat_minor": 0,
  "metadata": {
    "kernelspec": {
      "display_name": "Python 3",
      "language": "python",
      "name": "python3"
    },
    "language_info": {
      "codemirror_mode": {
        "name": "ipython",
        "version": 3
      },
      "file_extension": ".py",
      "mimetype": "text/x-python",
      "name": "python",
      "nbconvert_exporter": "python",
      "pygments_lexer": "ipython3",
      "version": "3.6.5"
    },
    "colab": {
      "name": "2-4-5_SSD_model_forward_COPY.ipynb",
      "provenance": [],
      "collapsed_sections": [],
      "include_colab_link": true
    }
  },
  "cells": [
    {
      "cell_type": "markdown",
      "metadata": {
        "id": "view-in-github",
        "colab_type": "text"
      },
      "source": [
        "<a href=\"https://colab.research.google.com/github/ykenkou001/Pytorch-ni-yoru-hatten-deeplearning/blob/main/2_4_5_SSD_model_forward_COPY.ipynb\" target=\"_parent\"><img src=\"https://colab.research.google.com/assets/colab-badge.svg\" alt=\"Open In Colab\"/></a>"
      ]
    },
    {
      "cell_type": "markdown",
      "metadata": {
        "id": "F94O4yYxGw8M"
      },
      "source": [
        "# 2.4 ネットワークモデルの実装、2.5 順伝搬関数の実装\n",
        "\n",
        "本ファイルでは、SSDのネットワークモデルと順伝搬forward関数を作成します。\n"
      ]
    },
    {
      "cell_type": "markdown",
      "metadata": {
        "id": "JPc7kqyjGw8Q"
      },
      "source": [
        "# 2.4 学習目標\n",
        "\n",
        "1.\tSSDのネットワークモデルを構築している4つのモジュールを把握する\n",
        "2.\tSSDのネットワークモデルを作成できるようになる\n",
        "3.\tSSDで使用する様々な大きさのデフォルトボックスの実装方法を理解する\n",
        "\n"
      ]
    },
    {
      "cell_type": "markdown",
      "metadata": {
        "id": "lcaeSHrlGw8S"
      },
      "source": [
        "# 2.5 学習目標\n",
        "\n",
        "1.\tNon-Maximum Suppressionを理解する\n",
        "2.\tSSDの推論時に使用するDetectクラスの順伝搬を理解する\n",
        "3.\tSSDの順伝搬を実装できるようになる\n"
      ]
    },
    {
      "cell_type": "markdown",
      "metadata": {
        "id": "eP5qFbGsGw8T"
      },
      "source": [
        "# 事前準備\n",
        "\n",
        "\n",
        "とくになし"
      ]
    },
    {
      "cell_type": "code",
      "metadata": {
        "id": "5SezJNFsGw8U"
      },
      "source": [
        "# パッケージのimport\n",
        "from math import sqrt\n",
        "from itertools import product\n",
        "\n",
        "import pandas as pd\n",
        "import torch\n",
        "from torch.autograd import Function\n",
        "import torch.nn as nn\n",
        "import torch.nn.functional as F\n",
        "import torch.nn.init as init"
      ],
      "execution_count": 3,
      "outputs": []
    },
    {
      "cell_type": "markdown",
      "metadata": {
        "id": "_dzZn2Y3Gw8a"
      },
      "source": [
        "# vggモジュールを実装"
      ]
    },
    {
      "cell_type": "code",
      "metadata": {
        "colab": {
          "base_uri": "https://localhost:8080/"
        },
        "id": "nXesh_ICpJmU",
        "outputId": "df794368-534b-4f48-affd-e72a1ff94fd8"
      },
      "source": [
        "# 35層にわたる、vggモジュールを作成\n",
        "def make_vgg():\n",
        "  layers = [] # 特徴マップを格納する　list\n",
        "  in_channels = 3 # 色チャネル数\n",
        "\n",
        "  # vggモジュールで使用する畳み込み層やmaxpoolingのchannel数\n",
        "  cfg = [64, 64, 'M', 128, 128, 'M', 256, 256,\n",
        "         256, 'MC', 512, 512, 512, 'M', 512, 512, 512]\n",
        "\n",
        "  for v in cfg:\n",
        "    if v == 'M':\n",
        "      # MaxPoolingLayerの定義\n",
        "      layers += [nn.MaxPool2d(kernel_size=2, stride=2)]\n",
        "    elif v == 'MC':\n",
        "      # ceilは出力サイズを計算結果(float)に対して、切り上げて整数にするモード\n",
        "      # defaultではoutput sizeを計算結果(float)に対して、切り下げて整数にするfloor　Mode\n",
        "      layers += [nn.MaxPool2d(kernel_size=2, stride=2, ceil_mode=True)]\n",
        "    else:\n",
        "      # 各畳み込み層の定義（ReLUを付け足す）\n",
        "      conv2d = nn.Conv2d(in_channels, v, kernel_size=3, padding=1)\n",
        "      layers += [conv2d, nn.ReLU(inplace=True)]\n",
        "      in_channels = v\n",
        "  # 18層目のmaxpooling層の定義\n",
        "  pool5 = nn.MaxPool2d(kernel_size=3, stride=1, padding=1)\n",
        "  # 19層目の定義\n",
        "  conv6 = nn.Conv2d(512, 1024, kernel_size=3, padding=6, dilation=6)\n",
        "  # 20層目の定義\n",
        "  conv7 = nn.Conv2d(1024, 1024, kernel_size=1)\n",
        "  # 18層目以降の層と畳み込み層に活性化関数を追加しlayersに追加\n",
        "  layers += [pool5, conv6, \n",
        "             nn.ReLU(inplace=True), conv7, nn.ReLU(inplace=True)]\n",
        "  return nn.ModuleList(layers)\n",
        "\n",
        "# Operatin Check\n",
        "vgg_test = make_vgg()\n",
        "print(vgg_test)"
      ],
      "execution_count": 15,
      "outputs": [
        {
          "output_type": "stream",
          "text": [
            "ModuleList(\n",
            "  (0): Conv2d(3, 64, kernel_size=(3, 3), stride=(1, 1), padding=(1, 1))\n",
            "  (1): ReLU(inplace=True)\n",
            "  (2): Conv2d(64, 64, kernel_size=(3, 3), stride=(1, 1), padding=(1, 1))\n",
            "  (3): ReLU(inplace=True)\n",
            "  (4): MaxPool2d(kernel_size=2, stride=2, padding=0, dilation=1, ceil_mode=False)\n",
            "  (5): Conv2d(64, 128, kernel_size=(3, 3), stride=(1, 1), padding=(1, 1))\n",
            "  (6): ReLU(inplace=True)\n",
            "  (7): Conv2d(128, 128, kernel_size=(3, 3), stride=(1, 1), padding=(1, 1))\n",
            "  (8): ReLU(inplace=True)\n",
            "  (9): MaxPool2d(kernel_size=2, stride=2, padding=0, dilation=1, ceil_mode=False)\n",
            "  (10): Conv2d(128, 256, kernel_size=(3, 3), stride=(1, 1), padding=(1, 1))\n",
            "  (11): ReLU(inplace=True)\n",
            "  (12): Conv2d(256, 256, kernel_size=(3, 3), stride=(1, 1), padding=(1, 1))\n",
            "  (13): ReLU(inplace=True)\n",
            "  (14): Conv2d(256, 256, kernel_size=(3, 3), stride=(1, 1), padding=(1, 1))\n",
            "  (15): ReLU(inplace=True)\n",
            "  (16): MaxPool2d(kernel_size=2, stride=2, padding=0, dilation=1, ceil_mode=True)\n",
            "  (17): Conv2d(256, 512, kernel_size=(3, 3), stride=(1, 1), padding=(1, 1))\n",
            "  (18): ReLU(inplace=True)\n",
            "  (19): Conv2d(512, 512, kernel_size=(3, 3), stride=(1, 1), padding=(1, 1))\n",
            "  (20): ReLU(inplace=True)\n",
            "  (21): Conv2d(512, 512, kernel_size=(3, 3), stride=(1, 1), padding=(1, 1))\n",
            "  (22): ReLU(inplace=True)\n",
            "  (23): MaxPool2d(kernel_size=2, stride=2, padding=0, dilation=1, ceil_mode=False)\n",
            "  (24): Conv2d(512, 512, kernel_size=(3, 3), stride=(1, 1), padding=(1, 1))\n",
            "  (25): ReLU(inplace=True)\n",
            "  (26): Conv2d(512, 512, kernel_size=(3, 3), stride=(1, 1), padding=(1, 1))\n",
            "  (27): ReLU(inplace=True)\n",
            "  (28): Conv2d(512, 512, kernel_size=(3, 3), stride=(1, 1), padding=(1, 1))\n",
            "  (29): ReLU(inplace=True)\n",
            "  (30): MaxPool2d(kernel_size=3, stride=1, padding=1, dilation=1, ceil_mode=False)\n",
            "  (31): Conv2d(512, 1024, kernel_size=(3, 3), stride=(1, 1), padding=(6, 6), dilation=(6, 6))\n",
            "  (32): ReLU(inplace=True)\n",
            "  (33): Conv2d(1024, 1024, kernel_size=(1, 1), stride=(1, 1))\n",
            "  (34): ReLU(inplace=True)\n",
            ")\n"
          ],
          "name": "stdout"
        }
      ]
    },
    {
      "cell_type": "markdown",
      "metadata": {
        "id": "9T7XgWrKGw8g"
      },
      "source": [
        "# extrasモジュールを実装"
      ]
    },
    {
      "cell_type": "code",
      "metadata": {
        "id": "zWmWpTxVxnrX"
      },
      "source": [
        "# 8層にわたる、extrasモジュールを作成\n",
        "def make_extras():\n",
        "  # 各層を格納するlist\n",
        "  layers = []\n",
        "  in_channels = 1024 # vggモジュールから出力されたextrasに入力される画像チャネル数\n",
        "\n",
        "  # extraモジュールの畳み込み層のチャネル数を設定するconfiguration\n",
        "  cfg = [256, 512, 128, 256, 128, 256, 128, 256]\n",
        "\n",
        "  layers += [nn.Conv2d(in_channels, cfg[0], kernel_size=(1))]\n",
        "  layers += [nn.Conv2d(cfg[0], cfg[1], kernel_size=(3), stride=2, padding=1)]\n",
        "  layers += [nn.Conv2d(cfg[1], cfg[2], kernel_size=(1))]\n",
        "  layers += [nn.Conv2d(cfg[2], cfg[3], kernel_size=(3), stride=2, padding=1)]\n",
        "  layers += [nn.Conv2d(cfg[3], cfg[4], kernel_size=(1))]\n",
        "  layers += [nn.Conv2d(cfg[4], cfg[5], kernel_size=(3))]\n",
        "  layers += [nn.Conv2d(cfg[5], cfg[6], kernel_size=(1))]\n",
        "  layers += [nn.Conv2d(cfg[6], cfg[7], kernel_size=(3))]\n",
        "\n"
      ],
      "execution_count": null,
      "outputs": []
    },
    {
      "cell_type": "markdown",
      "metadata": {
        "id": "lpMwWQfZGw8m"
      },
      "source": [
        "# locモジュールとconfモジュールを実装"
      ]
    },
    {
      "cell_type": "markdown",
      "metadata": {
        "id": "tOgBNY7FGw8s"
      },
      "source": [
        "# L2Norm層を実装"
      ]
    },
    {
      "cell_type": "markdown",
      "metadata": {
        "id": "0zN8JIPvGw8x"
      },
      "source": [
        "# デフォルトボックスを実装"
      ]
    },
    {
      "cell_type": "markdown",
      "metadata": {
        "id": "WNgaY_bUGw87"
      },
      "source": [
        "# SSDクラスを実装"
      ]
    },
    {
      "cell_type": "markdown",
      "metadata": {
        "id": "e2kmA27KGw9C"
      },
      "source": [
        "# ここから2.5節 順伝搬の実装です"
      ]
    },
    {
      "cell_type": "markdown",
      "metadata": {
        "id": "4PiaKi9QGw9E"
      },
      "source": [
        "# 関数decodeを実装する"
      ]
    },
    {
      "cell_type": "markdown",
      "metadata": {
        "id": "GRWdh3ZlGw9K"
      },
      "source": [
        "# Non-Maximum Suppressionを行う関数を実装する"
      ]
    },
    {
      "cell_type": "markdown",
      "metadata": {
        "id": "hf1a7f4nGw9S"
      },
      "source": [
        "# Detectクラスを実装する"
      ]
    },
    {
      "cell_type": "markdown",
      "metadata": {
        "id": "MYaeLRx_Gw9Z"
      },
      "source": [
        "# SSDクラスを実装する"
      ]
    },
    {
      "cell_type": "markdown",
      "metadata": {
        "id": "vLqzjJLEGw9e"
      },
      "source": [
        "以上"
      ]
    }
  ]
}